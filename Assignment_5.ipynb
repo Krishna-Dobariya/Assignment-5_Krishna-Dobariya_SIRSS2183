{
  "nbformat": 4,
  "nbformat_minor": 0,
  "metadata": {
    "colab": {
      "name": "Assignment 5.ipynb",
      "provenance": [],
      "collapsed_sections": []
    },
    "kernelspec": {
      "name": "python3",
      "display_name": "Python 3"
    },
    "language_info": {
      "name": "python"
    }
  },
  "cells": [
    {
      "cell_type": "markdown",
      "metadata": {
        "id": "eQkdoXwS8I6f"
      },
      "source": [
        "### Q1 Given a list of integers, write a function to return the sum of all prime numbers in that list."
      ]
    },
    {
      "cell_type": "code",
      "metadata": {
        "colab": {
          "base_uri": "https://localhost:8080/"
        },
        "id": "n1f56LlC8Al9",
        "outputId": "9f3871c8-7003-47cd-cdf0-4575c9b92797"
      },
      "source": [
        "def prime(n1):\n",
        "    sum = 0\n",
        "    for num in n1:\n",
        "        i = 2\n",
        "        p = 1\n",
        "        while i <= num / 2:\n",
        "            if num % i == 0:\n",
        "                p = 0\n",
        "                break\n",
        "            i = i + 1\n",
        "        if p == 1:\n",
        "            sum = sum + num\n",
        "    return sum\n",
        "\n",
        "\n",
        "lst = [3,5,6,7,87,45,34]\n",
        "sum = prime(lst)\n",
        "print(\"Sum of all prime numbers:\", sum)"
      ],
      "execution_count": 8,
      "outputs": [
        {
          "output_type": "stream",
          "name": "stdout",
          "text": [
            "Sum of all prime numbers: 15\n"
          ]
        }
      ]
    },
    {
      "cell_type": "markdown",
      "metadata": {
        "id": "OOGkOU9__sOr"
      },
      "source": [
        "### Q2 Given a list of integers, write a function to check whether the list is strictly increasing or not."
      ]
    },
    {
      "cell_type": "code",
      "metadata": {
        "colab": {
          "base_uri": "https://localhost:8080/"
        },
        "id": "BJoypff-80_H",
        "outputId": "0e46351d-c466-4295-f535-8654cdf5d46b"
      },
      "source": [
        "def Inc(n):\n",
        "    flag=True\n",
        "    for i in range(1,len(n)):\n",
        "        if n[i-1]>n[i]:\n",
        "            flag=False\n",
        "            break\n",
        "    return flag\n",
        "l1=input().split()\n",
        "list1=list(map(lambda x:int(x),l1))\n",
        "print('List is strictly increases : ',Inc(list1))"
      ],
      "execution_count": 9,
      "outputs": [
        {
          "output_type": "stream",
          "name": "stdout",
          "text": [
            "12 13 14 15\n",
            "List is strictly increases :  True\n"
          ]
        }
      ]
    },
    {
      "cell_type": "markdown",
      "metadata": {
        "id": "4O5QdMYfATwV"
      },
      "source": [
        "### Q3 Write a function to check whether a given list is expanding or not (the difference between adjacent elements should keep on increasing)."
      ]
    },
    {
      "cell_type": "code",
      "metadata": {
        "colab": {
          "base_uri": "https://localhost:8080/",
          "height": 35
        },
        "id": "6Br0sIMWADn_",
        "outputId": "a283bed4-b46a-4c82-ba8f-6a8610a922e2"
      },
      "source": [
        "def isExpanding(a):\n",
        "    if all(a[i]<=a[i+1]  for i in range(len(a)-1) ):\n",
        "        return \"List Expanding\"\n",
        "\n",
        "    elif all(a[i]>=a[i+1] for i in range(len(a)-1)):\n",
        "        return \"List Not Expanding\"\n",
        "\n",
        "    return \"List Not Expanding\"\n",
        "\n",
        "a = [1,2,4,5,7,9,10]\n",
        "isExpanding(a)"
      ],
      "execution_count": 10,
      "outputs": [
        {
          "output_type": "execute_result",
          "data": {
            "application/vnd.google.colaboratory.intrinsic+json": {
              "type": "string"
            },
            "text/plain": [
              "'List Expanding'"
            ]
          },
          "metadata": {},
          "execution_count": 10
        }
      ]
    },
    {
      "cell_type": "markdown",
      "metadata": {
        "id": "cKWZUPmsA_KP"
      },
      "source": [
        "### Q4 Write a function to calculate all permutations of a given string. (Without using itertools)"
      ]
    },
    {
      "cell_type": "code",
      "metadata": {
        "colab": {
          "base_uri": "https://localhost:8080/"
        },
        "id": "_7NQS7iMAzj6",
        "outputId": "064caf47-5923-467f-cdec-59a32c936ec9"
      },
      "source": [
        "def permutation(n, ans):\n",
        "    if (len(n) == 0):\n",
        "        print(ans, end = \"  \")\n",
        "        return\n",
        "     \n",
        "    for i in range(len(n)):\n",
        "        ch = n[i]\n",
        "        left = n[0:i]\n",
        "        right = n[i + 1:]\n",
        "        rest = left + right\n",
        "        permutation(rest, ans + ch)\n",
        "ans = \"\"\n",
        "n = input(\"Enter the string : \")\n",
        "print(\"All possible strings are : \")\n",
        "permutation(n, ans)"
      ],
      "execution_count": 11,
      "outputs": [
        {
          "output_type": "stream",
          "name": "stdout",
          "text": [
            "Enter the string : abcd\n",
            "All possible strings are : \n",
            "abcd  abdc  acbd  acdb  adbc  adcb  bacd  badc  bcad  bcda  bdac  bdca  cabd  cadb  cbad  cbda  cdab  cdba  dabc  dacb  dbac  dbca  dcab  dcba  "
          ]
        }
      ]
    },
    {
      "cell_type": "code",
      "metadata": {
        "id": "0shzPJr0BQv-"
      },
      "source": [
        ""
      ],
      "execution_count": null,
      "outputs": []
    }
  ]
}